{
 "cells": [
  {
   "cell_type": "code",
   "execution_count": 15,
   "metadata": {},
   "outputs": [],
   "source": [
    "# importing all the necessary libraries\n",
    "\n",
    "import numpy as np\n",
    "import matplotlib.pyplot as plt \n",
    "import numpy.polynomial.legendre as leg #for finding the legendre nodes\n",
    "import numpy.linalg as lin\n",
    "from tqdm import tqdm\n",
    "import sympy\n",
    "from sympy import simplify\n",
    "from sympy import Symbol\n",
    "from sympy import integrate\n",
    "from numpy import random"
   ]
  },
  {
   "cell_type": "code",
   "execution_count": 5,
   "metadata": {},
   "outputs": [],
   "source": [
    "#Question 2: Forming the Polynomial of Legendre and Chebyshev nodes that approximate |x|\n",
    "\n",
    "#Using some functions defined back in assignment 2\n",
    "\n",
    "def mod(x): #function that returns the polynomial required in the assignment\n",
    "    return np.abs(x)\n",
    "\n",
    "def chebyshev_nodes(n): #function takes input n and returns the chebyshev nodes for the n^th order chebyshev polynomial\n",
    "    a = np.array(range(n))\n",
    "    return np.cos(((2*a+1)/(2*n))*np.pi)\n",
    "\n",
    "def legendre_nodes(n): # function takes input n and returns the legendre nodes for the n^th order legendre polynomial\n",
    "    x_legendre = np.zeros(n+1)\n",
    "    x_legendre[-1] = 1\n",
    "    x_legendre = leg.legroots(x_legendre) #computes the roots of the legendre polynomial of order n\n",
    "    return x_legendre\n",
    "\n",
    "#function takes the nodes and integer i and returns the lagrange polynomial li(x)\n",
    "def compute_lag(x_nodes,i):\n",
    "    x = Symbol('x',real = True)\n",
    "    N = len(x_nodes)\n",
    "    y = 1\n",
    "    for j in range(N):\n",
    "        if(j!=i):\n",
    "            y = np.multiply((x-x_nodes[j])/(x_nodes[i]-x_nodes[j]),y) #evaluates the i^th lagrange polynomial\n",
    "    return y\n",
    "\n",
    "#function takes the function values at the nodes, nodes and evaluates the lagrange interpolant \n",
    "def interp_poly(f_nodes,x_nodes): #function to calculate interpolant\n",
    "    N = len(x_nodes)\n",
    "    f = 0\n",
    "    for i in range(N):\n",
    "        f += f_nodes[i]*compute_lag(x_nodes,i)\n",
    "    \n",
    "    return f\n",
    "\n",
    "\n",
    "def Two_norm(f): #two norm of the function f(x)\n",
    "     return np.sqrt(float(integrate(np.abs(f)**2,(x,-1,1))))\n",
    "    \n",
    "def inf_norm(f): #infinity norm of the function f(x)\n",
    "    x_pts = np.linspace(-1,1,101) #sweeping x across -1,1 and including 0 which looks like the maxima on studying the curve\n",
    "    val = []\n",
    "\n",
    "    for c in x_pts:\n",
    "        val.append(float(f.subs(x,c)))\n",
    "        \n",
    "    return max(np.abs(val))\n",
    "        \n",
    "    \n",
    "    \n",
    "    \n",
    "    "
   ]
  },
  {
   "cell_type": "code",
   "execution_count": 12,
   "metadata": {},
   "outputs": [
    {
     "name": "stdout",
     "output_type": "stream",
     "text": [
      "P_l:  -4.44089209850063e-16*x**3 + 0.832558114066254*x**2 + 1.66533453693773e-16*x + 0.243748057275345\n",
      "P_c:  -1.11022302462516e-16*x**3 + 0.765366864730179*x**2 + 8.32667268468867e-17*x + 0.270598050073099\n",
      "P:  x**2 + 0.125\n",
      "Two norm of p(x) case:  0.12076\n",
      "Two norm of p_l(x) case:  0.11523\n",
      "Two norm of p_c(x) case:  0.13041\n",
      "Infinity norm of p(x) case:  0.125\n",
      "Infinity norm of p_l(x) case:  0.24375\n",
      "Infinity norm of p_c(x) case:  0.2706\n"
     ]
    }
   ],
   "source": [
    "N = 4\n",
    "\n",
    "cheb_nodes = chebyshev_nodes(N)\n",
    "leg_nodes  = legendre_nodes(N)\n",
    "f_c        = mod(cheb_nodes)\n",
    "f_l        = mod(leg_nodes)\n",
    "\n",
    "#lagrange interpolant using legendre nodes\n",
    "print('P_l: ', simplify(interp_poly(f_l,leg_nodes)))\n",
    "\n",
    "#lagrange interpolant using chebyshev nodes\n",
    "print('P_c: ',simplify(interp_poly(f_c,cheb_nodes)))\n",
    "\n",
    "P_l = simplify(interp_poly(f_l,leg_nodes))\n",
    "P_c = simplify(interp_poly(f_c,cheb_nodes))\n",
    "\n",
    "x = Symbol('x',real=True)\n",
    "P   = x**2 + 1/8\n",
    "print('P: ',P)\n",
    "f = np.abs(x)\n",
    "\n",
    "# The errors\n",
    "e_p = simplify(P-f)\n",
    "e_l = simplify(P_l-f)\n",
    "e_c = simplify(P_c-f)\n",
    "\n",
    "\n",
    "#Computing the 2 norm of the errors\n",
    "print(\"Two norm of p(x) case: \",np.around(Two_norm(e_p),5))\n",
    "print(\"Two norm of p_l(x) case: \",np.around(Two_norm(e_l),5))\n",
    "print(\"Two norm of p_c(x) case: \",np.around(Two_norm(e_c),5))\n",
    "\n",
    "#Computing the infinite norm of the errors\n",
    "print(\"Infinity norm of p(x) case: \",np.around(inf_norm(e_p),5))\n",
    "print(\"Infinity norm of p_l(x) case: \",np.around(inf_norm(e_l),5))\n",
    "print(\"Infinity norm of p_c(x) case: \",np.around(inf_norm(e_c),5))"
   ]
  },
  {
   "cell_type": "code",
   "execution_count": 13,
   "metadata": {},
   "outputs": [
    {
     "name": "stdout",
     "output_type": "stream",
     "text": [
      "[-0.86113631 -0.33998104  0.33998104  0.86113631]\n",
      "[ 0.92387953  0.38268343 -0.38268343 -0.92387953]\n"
     ]
    }
   ],
   "source": [
    "#nodes used\n",
    "print(leg_nodes)\n",
    "print(cheb_nodes)"
   ]
  },
  {
   "cell_type": "code",
   "execution_count": 16,
   "metadata": {},
   "outputs": [
    {
     "name": "stderr",
     "output_type": "stream",
     "text": [
      "  4%|███▏                                                                               | 3/79 [00:00<00:02, 29.21it/s]"
     ]
    },
    {
     "name": "stdout",
     "output_type": "stream",
     "text": [
      "True value of the integral 0.4387636120312779\n"
     ]
    },
    {
     "name": "stderr",
     "output_type": "stream",
     "text": [
      "100%|██████████████████████████████████████████████████████████████████████████████████| 79/79 [01:13<00:00,  1.07it/s]\n"
     ]
    },
    {
     "data": {
      "image/png": "[encoded data removed]",
      "text/plain": [
       "<Figure size 432x288 with 1 Axes>"
      ]
     },
     "metadata": {
      "needs_background": "dark"
     },
     "output_type": "display_data"
    }
   ],
   "source": [
    "#Question 4: Trapezoidal Rule\n",
    "\n",
    "#function \n",
    "\n",
    "x = Symbol('x',real=True)\n",
    "\n",
    "N = 20\n",
    "\n",
    "a = random.uniform(-1,1,N+1)\n",
    "b = random.uniform(-1,1,N)\n",
    "\n",
    "func = a[0]\n",
    "for k in range(N):\n",
    "    func += a[k+1]*sympy.cos(2*(k+1)*np.pi*x)+b[k]*sympy.sin(2*(k+1)*np.pi*x)\n",
    "\n",
    "#true value of the integral\n",
    "\n",
    "true_value = a[0]\n",
    "\n",
    "print('True value of the integral',true_value)\n",
    "\n",
    "#value of the integral through trapezoidal rule\n",
    "\n",
    "error_TR = []\n",
    "\n",
    "for n in tqdm(range(2,81)):\n",
    "    nodes = np.linspace(0,1,n)\n",
    "    x_0 = nodes[0]\n",
    "    x_N = nodes[-1]\n",
    "    h = 1/(n-1)\n",
    "    TR = (h/2)*(float(func.subs(x,x_0))+float(func.subs(x,x_N)))\n",
    "    for i in range(1,len(nodes)-1):\n",
    "        TR += h*(float(func.subs(x,nodes[i])))\n",
    "                    \n",
    "    error_TR.append(np.abs(TR - true_value))\n",
    "    \n",
    "#print(error_TR)\n",
    "\n",
    "plt.plot(error_TR)\n",
    "plt.xlabel('<-n->',color = 'white')\n",
    "plt.ylabel('Abs error',color = 'white')\n",
    "plt.title('Absolute Error in the integral using Trapezoidal Rule',color = 'white')\n",
    "plt.grid('True')\n",
    "plt.annotate('Error drops to 0', xy =(20, 0.2), xytext =(20, 1),  arrowprops = dict(facecolor ='red',shrink = 0.05))\n",
    "plt.tick_params(axis='x', colors='white')\n",
    "plt.tick_params(axis='y', colors='white')\n",
    "plt.show()\n",
    "\n",
    "    "
   ]
  },
  {
   "cell_type": "code",
   "execution_count": 17,
   "metadata": {},
   "outputs": [
    {
     "name": "stderr",
     "output_type": "stream",
     "text": [
      "100%|████████████████████████████████████████████████████████████████████████████████| 49/49 [00:00<00:00, 1207.14it/s]\n"
     ]
    },
    {
     "data": {
      "image/png": "[encoded data removed]",
      "text/plain": [
       "<Figure size 432x288 with 1 Axes>"
      ]
     },
     "metadata": {
      "needs_background": "dark"
     },
     "output_type": "display_data"
    }
   ],
   "source": [
    "# Question 5: Gaussian Quadrature for integral of e^-x^2 from -1 to 1\n",
    "\n",
    "True_Value = np.around(1.4936482656248540507989348722637060107089993736252126580553089979,20) #rounding true value obtained from wolfram alpha to 20 decimal places\n",
    "\n",
    "def Gauss_Quad(n):\n",
    "    leg_nodes,w = leg.leggauss(n+1)\n",
    "    f = np.e**(-leg_nodes**2)\n",
    "    \n",
    "    return np.sum(np.multiply(f,w))\n",
    "\n",
    "def factorial(n): #actual value of the n!\n",
    "    if (n == 1):\n",
    "        return 1\n",
    "    else:\n",
    "        return n*factorial(n-1)\n",
    "\n",
    "error_gauss = []\n",
    "error_order = []\n",
    "for n in tqdm(range(3,52)):\n",
    "    error_gauss.append(np.abs(Gauss_Quad(n)-True_Value))\n",
    "    error_order.append(1/factorial(2*n))\n",
    "    \n",
    "plt.loglog(np.arange(3,52),error_gauss,'o-',label = 'error')\n",
    "plt.loglog(np.arange(3,52),error_order,'o-',label = '1/2n!')\n",
    "plt.legend(loc = 'best')\n",
    "plt.grid()\n",
    "plt.ylabel('magnitude',color = 'white')\n",
    "plt.ylim(10e-15,10e-5)\n",
    "plt.xlabel('<-n->',color = 'white')\n",
    "plt.title('Absolute Error made by Gaussian Quadrature',color = 'white')\n",
    "plt.tick_params(axis='x', colors='white')\n",
    "plt.tick_params(axis='y', colors='white')\n",
    "plt.show()\n"
   ]
  },
  {
   "cell_type": "code",
   "execution_count": null,
   "metadata": {},
   "outputs": [],
   "source": []
  }
 ],
 "metadata": {
  "kernelspec": {
   "display_name": "Python 3 (ipykernel)",
   "language": "python",
   "name": "python3"
  },
  "language_info": {
   "codemirror_mode": {
    "name": "ipython",
    "version": 3
   },
   "file_extension": ".py",
   "mimetype": "text/x-python",
   "name": "python",
   "nbconvert_exporter": "python",
   "pygments_lexer": "ipython3",
   "version": "3.7.6"
  }
 },
 "nbformat": 4,
 "nbformat_minor": 4
}
